{
 "cells": [
  {
   "cell_type": "markdown",
   "metadata": {},
   "source": [
    "Activation functions are a crucial component of deep learning models since they add nonlinearity to the computation of the layers.\n",
    "In this chapter, we consider various activation functions that are widely used in practice and test their effects on neural network training. \n",
    "\n",
    "There is a wide range of possible activation functions "
   ]
  },
  {
   "cell_type": "code",
   "execution_count": null,
   "metadata": {},
   "outputs": [],
   "source": []
  }
 ],
 "metadata": {
  "language_info": {
   "name": "python"
  },
  "orig_nbformat": 4
 },
 "nbformat": 4,
 "nbformat_minor": 2
}
